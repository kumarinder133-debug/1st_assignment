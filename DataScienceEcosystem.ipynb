{
 "cells": [
  {
   "cell_type": "markdown",
   "id": "1028212b-93a1-4e6d-a807-66f3f8ff1246",
   "metadata": {},
   "source": [
    "# Data Science Tools and Ecosystem"
   ]
  },
  {
   "cell_type": "markdown",
   "id": "66cc5861-954c-4a1c-8974-fa4fac1bdb0a",
   "metadata": {},
   "source": [
    "In this notebook, Data Science Tools and Ecosystem are summarized."
   ]
  },
  {
   "cell_type": "markdown",
   "id": "be8c3362-b052-4fbb-85a7-81234551c742",
   "metadata": {},
   "source": [
    "**Objectives:**\n",
    "- Create a code cell to convert minutes to hours.\n",
    "- Create a code cell to multiply and add numbers.\n",
    "- Create a markdown cell introducing arithmetic expression examples."
   ]
  },
  {
   "cell_type": "markdown",
   "id": "091bb5c0-c6f8-45d3-8a43-cca7bd1f0f38",
   "metadata": {},
   "source": [
    "Some of the popular languages that Data Scientists use are:\n",
    "1. Python\n",
    "2. C++\n",
    "3. Java"
   ]
  },
  {
   "attachments": {},
   "cell_type": "markdown",
   "id": "f42907b0-e50e-48ed-8d07-fd56b5e693cb",
   "metadata": {},
   "source": [
    "Some of the commonly used libraries used by Data Scientists include:\n",
    "1. NumPy\n",
    "2. Matplotlib\n",
    "3. Pandas"
   ]
  },
  {
   "cell_type": "markdown",
   "id": "727fd1ca-75d4-4ba4-8b47-d0c1a4042430",
   "metadata": {},
   "source": [
    "| Data Science Tools |\n",
    "|----|\n",
    "| VS Code|\n",
    "| Rstudio |\n",
    "| Plotly |"
   ]
  },
  {
   "cell_type": "markdown",
   "id": "7389f494-ee6b-461e-b6d5-43a0edc944ec",
   "metadata": {},
   "source": [
    "### Below are a few examples of evaluating arithmetic expressions in Python"
   ]
  },
  {
   "cell_type": "code",
   "execution_count": 2,
   "id": "de071db2-5fea-48fd-8d4d-8228bec7bcd3",
   "metadata": {},
   "outputs": [
    {
     "data": {
      "text/plain": [
       "17"
      ]
     },
     "execution_count": 2,
     "metadata": {},
     "output_type": "execute_result"
    }
   ],
   "source": [
    "#This a simple arithmetic expression to multiply then add integers\n",
    "(3*4)+5"
   ]
  },
  {
   "cell_type": "code",
   "execution_count": 4,
   "id": "e2d59302-35a8-4cee-80f1-2052607e1018",
   "metadata": {},
   "outputs": [
    {
     "data": {
      "text/plain": [
       "3.3333333333333335"
      ]
     },
     "execution_count": 4,
     "metadata": {},
     "output_type": "execute_result"
    }
   ],
   "source": [
    "# This will convert 200 minutes to hours by dividng by 60\n",
    "200/60"
   ]
  },
  {
   "cell_type": "markdown",
   "id": "bcc044c9-6633-4660-b094-7e82bbd3c206",
   "metadata": {},
   "source": [
    "## Author\n",
    "Ik"
   ]
  },
  {
   "cell_type": "code",
   "execution_count": null,
   "id": "a1de16b1-ae0d-4df9-a142-5b0b71b0e4a6",
   "metadata": {},
   "outputs": [],
   "source": []
  }
 ],
 "metadata": {
  "kernelspec": {
   "display_name": "Python 3 (ipykernel)",
   "language": "python",
   "name": "python3"
  },
  "language_info": {
   "codemirror_mode": {
    "name": "ipython",
    "version": 3
   },
   "file_extension": ".py",
   "mimetype": "text/x-python",
   "name": "python",
   "nbconvert_exporter": "python",
   "pygments_lexer": "ipython3",
   "version": "3.12.8"
  }
 },
 "nbformat": 4,
 "nbformat_minor": 5
}
